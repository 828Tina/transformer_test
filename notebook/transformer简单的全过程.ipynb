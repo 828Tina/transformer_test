{
 "cells": [
  {
   "cell_type": "markdown",
   "id": "9a35dc9b",
   "metadata": {},
   "source": [
    "### 1、数据处理"
   ]
  },
  {
   "cell_type": "markdown",
   "id": "b2dd51f5",
   "metadata": {},
   "source": [
    "#### 1.1 定义数据"
   ]
  },
  {
   "cell_type": "code",
   "execution_count": 15,
   "id": "6a5ef37c",
   "metadata": {},
   "outputs": [],
   "source": [
    "# 输入\n",
    "dataset_x='<BEGIN>,<END>,<PAD>,a,b,c,d,e,f,g,1,2,3,4,5,6,7,8,9'\n",
    "# 输入表示为字典形式\n",
    "dataset_x={word:i for i,word in enumerate(dataset_x.split(\",\"))}\n",
    "dataset_xr=[k for k,v in dataset_x.items()]"
   ]
  },
  {
   "cell_type": "code",
   "execution_count": 16,
   "id": "67c4fa79",
   "metadata": {},
   "outputs": [],
   "source": [
    "dataset_y={k.upper():v for k,v in dataset_x.items()}\n",
    "dataset_yr=[k for k,v in dataset_y.items()]"
   ]
  },
  {
   "cell_type": "markdown",
   "id": "5a6f9728",
   "metadata": {},
   "source": [
    "#### 1.2 构建数据集\n",
    "\n",
    "简单做个翻译的小模型，目标是，输入小写字母，输出对应大写字母，输入10以内的数字，输出10-输入的数字"
   ]
  },
  {
   "cell_type": "code",
   "execution_count": 3,
   "id": "eeeb6dd2",
   "metadata": {},
   "outputs": [],
   "source": [
    "import random\n",
    "\n",
    "import numpy as np\n",
    "import torch"
   ]
  },
  {
   "cell_type": "code",
   "execution_count": 19,
   "id": "c2119113",
   "metadata": {},
   "outputs": [],
   "source": [
    "def get_data():\n",
    "    # 定义词的集合，总共像上面的x\n",
    "    words=[\n",
    "        'a','b','c','d','e','f','g','1','2','3','4','5','6','7','8','9'\n",
    "    ]\n",
    "    \n",
    "    # 定义被选中的概率\n",
    "    all_words_len=len(words)\n",
    "    p=np.arange(1,all_words_len+1)\n",
    "    \n",
    "    p=p/p.sum()\n",
    "    \n",
    "    # 随机选n个词\n",
    "    n=random.randint(20,30)\n",
    "    x=np.random.choice(words,size=n,replace=True,p=p)\n",
    "    \n",
    "    # 采样的结果就是x，变成List\n",
    "    x = x.tolist()\n",
    "    \n",
    "    # 怎么变换\n",
    "    def convert(i):\n",
    "        i=i.upper()\n",
    "        if not i.isdigit():\n",
    "            return i\n",
    "        i=10-int(i)\n",
    "        return str(i)\n",
    "    \n",
    "    y=[convert(i) for i in x]\n",
    "    # 因为输出和输入不一定是一样的大小，所以假设y多了1位\n",
    "    # 这1位是最后一个词放前面\n",
    "    y=[y[-1]]+y\n",
    "    \n",
    "    # 加上首尾符号\n",
    "    x=['<BEGIN>']+x+['<END>']\n",
    "    y=['<BEGIN>']+y+['<END>']\n",
    "    \n",
    "    # 补PAD，既然上面的是随机20到30，这里补长度到40\n",
    "    x=x+['<PAD>']*40\n",
    "    y=y+['<PAD>']*41\n",
    "    \n",
    "    x=x[:40]\n",
    "    y=y[:41]\n",
    "    \n",
    "    # 编码成数据\n",
    "    # 编码成数据\n",
    "    x = [dataset_x[i] for i in x]\n",
    "    y = [dataset_y[i] for i in y]\n",
    "    \n",
    "    # 转tensor\n",
    "    x = torch.LongTensor(x)\n",
    "    y = torch.LongTensor(y)\n",
    "    \n",
    "    return x,y"
   ]
  },
  {
   "cell_type": "code",
   "execution_count": 5,
   "id": "8c5d7042",
   "metadata": {},
   "outputs": [],
   "source": [
    "# 定义数据集\n",
    "class Dataset(torch.utils.data.Dataset):\n",
    "    def __init__(self):\n",
    "        super(Dataset, self).__init__()\n",
    "\n",
    "    def __len__(self):\n",
    "        return 100000\n",
    "\n",
    "    def __getitem__(self, i):\n",
    "        return get_data()\n",
    "\n",
    "\n",
    "# 数据加载器\n",
    "loader = torch.utils.data.DataLoader(dataset=Dataset(),\n",
    "                                     batch_size=8,\n",
    "                                     drop_last=True,\n",
    "                                     shuffle=True,\n",
    "                                     collate_fn=None)"
   ]
  },
  {
   "cell_type": "code",
   "execution_count": null,
   "id": "b793f548",
   "metadata": {},
   "outputs": [],
   "source": []
  },
  {
   "cell_type": "markdown",
   "id": "59ae2285",
   "metadata": {},
   "source": [
    "### 2、工具函数"
   ]
  },
  {
   "cell_type": "markdown",
   "id": "a57d749f",
   "metadata": {},
   "source": [
    "#### 2.1 注意力函数\n",
    "\n",
    "\n",
    "这里表示的是attention是怎么计算的\n",
    "\n",
    "$$AttentionScore=softmax(\\frac{QK^T}{\\sqrt{d_k}})*V$$\n",
    "\n",
    "d_k表示的是多头对应的8维向量，这样计算是为了把结果约束到0-1之间，不然随着训练增加，数字会很大"
   ]
  },
  {
   "cell_type": "code",
   "execution_count": 154,
   "id": "e08cfda9",
   "metadata": {},
   "outputs": [],
   "source": [
    "def attention(Q,K,V,mask):\n",
    "    # b句话,每句话40个词,每个词编码成32维向量,4个头,每个头分到8维向量\n",
    "    # Q,K,V = [b, 4, 40, 8]\n",
    "    # Q,K,V = [b, head_num, 40_words, 8]\n",
    "    \n",
    "    # [b, 4, 40, 8] * [b, 4, 8, 40] -> [b, 4, 40, 40]\n",
    "    # Q,K矩阵相乘,求每个词相对其他所有词的注意力\n",
    "    # QK.T\n",
    "    score = torch.matmul(Q, K.permute(0, 1, 3, 2))\n",
    "    \n",
    "    \n",
    "    # 除以每个头维数的平方根,做数值缩放\n",
    "    # [b, 4, 40, 40]\n",
    "    # QK.T/根号dk\n",
    "    score /= (8 ** 0.5)\n",
    "    \n",
    "    # mask遮盖,mask是true的地方都被替换成-inf,这样在计算softmax的时候,-inf会被压缩到0\n",
    "    # mask = [b, 1, 40, 40]\n",
    "    score = score.masked_fill_(mask, -float('inf'))\n",
    "    # softmax过程\n",
    "    score = torch.softmax(score, dim=-1)\n",
    "    \n",
    "    # 以注意力分数乘以V,得到最终的注意力结果\n",
    "    # softmax((QK.T)/根号dk)*V\n",
    "    # [b, 4, 40, 40] * [b, 4, 40, 8] -> [b, 4, 40, 8]\n",
    "    score = torch.matmul(score, V)\n",
    "    \n",
    "    # 每个头计算的结果合一\n",
    "    # [b, 4, 40, 8] -> [b, 40, 32]\n",
    "    score = score.permute(0, 2, 1, 3).reshape(-1, 40, 32)\n",
    "    \n",
    "    return score"
   ]
  },
  {
   "cell_type": "markdown",
   "id": "1ad63896",
   "metadata": {},
   "source": [
    "#### 2.2 多头注意力层"
   ]
  },
  {
   "cell_type": "code",
   "execution_count": 155,
   "id": "bf3bc8e3",
   "metadata": {},
   "outputs": [],
   "source": [
    "class MultiHead(torch.nn.Module):\n",
    "    \n",
    "        def __init__(self):\n",
    "            # 这些是Q,K,V对应的线性矩阵，把输入x通过线性矩阵变成对应的Q,K,V\n",
    "            super().__init__()\n",
    "            self.fc_Q = torch.nn.Linear(32, 32)\n",
    "            self.fc_K = torch.nn.Linear(32, 32)\n",
    "            self.fc_V = torch.nn.Linear(32, 32)\n",
    "            \n",
    "            # 输出的全连接层\n",
    "            self.out_fc = torch.nn.Linear(32, 32)\n",
    "            \n",
    "            # 规范化LN\n",
    "            self.norm = torch.nn.LayerNorm(normalized_shape=32, elementwise_affine=True)\n",
    "            \n",
    "            # 防止过拟合\n",
    "            self.dropout = torch.nn.Dropout(p=0.1)\n",
    "            \n",
    "        def forward(self,Q,K,V,mask):\n",
    "            # 多头注意力层\n",
    "            \n",
    "            # b句话,每句话40个词,每个词编码成32维向量\n",
    "            # Q,K,V = [b, 40, 32]\n",
    "            b = Q.shape[0]\n",
    "            \n",
    "            # 保留下原始的Q,后面要做短接用\n",
    "            clone_Q = Q.clone()\n",
    "            \n",
    "            # 规范化，放在所有过程之前是因为经过验证，放在之前可以让模型收敛的更快\n",
    "            Q = self.norm(Q)\n",
    "            K = self.norm(K)\n",
    "            V = self.norm(V)\n",
    "            \n",
    "            # 线性运算,维度不变\n",
    "            # [b, 40, 32] * [b, 32, 32]-> [b, 40, 32]\n",
    "            Q = self.fc_Q(Q)\n",
    "            K = self.fc_K(K)\n",
    "            V = self.fc_V(V)\n",
    "            \n",
    "            # 拆分成多个头\n",
    "            # b句话,每句话4=个词,每个词编码成32维向量,4个头,每个头分到8维向量\n",
    "            \n",
    "            # [b, 40, 32] -> [b, 4, 40, 8]\n",
    "            Q = Q.reshape(b, 40, 4, 8).permute(0, 2, 1, 3)\n",
    "            K = K.reshape(b, 40, 4, 8).permute(0, 2, 1, 3)\n",
    "            V = V.reshape(b, 40, 4, 8).permute(0, 2, 1, 3)\n",
    "            \n",
    "            # 这下这些Q,K,V的形状和attention要求的输入形状一样了\n",
    "            # 计算注意力\n",
    "            # [b, 4, 40, 8] -> [b, 40, 32]\n",
    "            score = attention(Q, K, V, mask)\n",
    "            \n",
    "            # 计算输出,维度不变\n",
    "            # [b, 40, 32] -> [b, 40, 32]\n",
    "            score = self.dropout(self.out_fc(score))\n",
    "            \n",
    "            # 短接，transformer里的残差链接吧\n",
    "            score = clone_Q + score\n",
    "            return score"
   ]
  },
  {
   "cell_type": "markdown",
   "id": "4baafc88",
   "metadata": {},
   "source": [
    "#### 2.3 位置编码层\n",
    "\n",
    "这里表示模型在考虑输入的时候需要考虑每一个字的位置，why?理由如下：\n",
    "\n",
    "“我欠你1000元”\n",
    "\n",
    "“你欠我1000元”\n",
    "\n",
    "这两句话长度一样，文字也一样，但是由于“我”和“你”位置不一样，意思完全不一样，如果用RNN的话就不会考虑位置信息，这样两句话的意思就完全一样了。\n",
    "\n",
    "\n",
    "##### 位置编码实现函数\n",
    "\n",
    "$$PE_{pos,2i}=sin(\\frac{pos}{1000^{\\frac{2i}{d_{model}}}})$$\n",
    "\n",
    "$$PE_{pos,2i+1}=cos(\\frac{pos}{1000^{\\frac{2i}{d_{model}}}})$$\n",
    "\n",
    "pos:词的位置\n",
    "\n",
    "i:词向量编码之后它的第i个向量，因为之前说把一个词分成了32维向量，所以i在0-32内取值\n",
    "\n",
    "d_model:编码维度，32"
   ]
  },
  {
   "cell_type": "code",
   "execution_count": 156,
   "id": "a1b97374",
   "metadata": {},
   "outputs": [],
   "source": [
    "class PositionEmbedding(torch.nn.Module):\n",
    "    def __init__(self):\n",
    "        super().__init__()\n",
    "        \n",
    "        # pos是第几个词,i是第几个维度,d_model是维度总数\n",
    "        def get_pe(pos, i, d_model):\n",
    "            # 分母\n",
    "            fenmu = 1e4 ** (i / d_model)\n",
    "            # sin里的\n",
    "            pe = pos / fenmu\n",
    "            \n",
    "            if i % 2 == 0:\n",
    "                # 偶数\n",
    "                return math.sin(pe)\n",
    "            # 奇数\n",
    "            return math.cos(pe)\n",
    "        \n",
    "        # 初始化位置编码矩阵\n",
    "        pe = torch.empty(40, 32)\n",
    "        for i in range(40):\n",
    "            for j in range(32):\n",
    "                pe[i, j] = get_pe(i, j, 32)\n",
    "        pe = pe.unsqueeze(0)\n",
    "        \n",
    "        # 定义为不更新的常量\n",
    "        self.register_buffer('pe', pe)\n",
    "        \n",
    "        # 词编码层\n",
    "        self.embed = torch.nn.Embedding(39, 32)\n",
    "        # 初始化参数\n",
    "        self.embed.weight.data.normal_(0, 0.1)\n",
    "        \n",
    "    def forward(self, x):\n",
    "        # [8, 40] -> [8, 40, 32]\n",
    "        # 表示8句话，每句话40个字，每个字32个维度\n",
    "        embed = self.embed(x)\n",
    "        \n",
    "        # 词编码和位置编码相加\n",
    "        # [8, 40, 32] + [1, 40, 32] -> [8, 40, 32]\n",
    "        embed = embed + self.pe\n",
    "        return embed"
   ]
  },
  {
   "cell_type": "markdown",
   "id": "04b82cd2",
   "metadata": {},
   "source": [
    "#### 2.4 全连接输出层"
   ]
  },
  {
   "cell_type": "code",
   "execution_count": 157,
   "id": "0b8717b2",
   "metadata": {},
   "outputs": [],
   "source": [
    "class FullyConnectedOutput(torch.nn.Module):\n",
    "    def __init__(self):\n",
    "        super().__init__()\n",
    "        self.fc = torch.nn.Sequential(\n",
    "            torch.nn.Linear(in_features=32, out_features=64),\n",
    "            torch.nn.ReLU(),\n",
    "            torch.nn.Linear(in_features=64, out_features=32),\n",
    "            torch.nn.Dropout(p=0.1),\n",
    "        )\n",
    "\n",
    "        self.norm = torch.nn.LayerNorm(normalized_shape=32,\n",
    "                                       elementwise_affine=True)\n",
    "    def forward(self, x):\n",
    "        # 保留下原始的x,后面要做短接用\n",
    "        clone_x = x.clone()\n",
    "\n",
    "        # 规范化\n",
    "        x = self.norm(x)\n",
    "\n",
    "        # 线性全连接运算\n",
    "        # [b, 40, 32] -> [b, 40, 32]\n",
    "        out = self.fc(x)\n",
    "\n",
    "        # 做短接\n",
    "        out = clone_x + out\n",
    "\n",
    "        return out"
   ]
  },
  {
   "cell_type": "code",
   "execution_count": null,
   "id": "421dec9d",
   "metadata": {},
   "outputs": [],
   "source": []
  },
  {
   "cell_type": "code",
   "execution_count": null,
   "id": "c65a9905",
   "metadata": {},
   "outputs": [],
   "source": []
  },
  {
   "cell_type": "code",
   "execution_count": null,
   "id": "e0353d0f",
   "metadata": {},
   "outputs": [],
   "source": []
  },
  {
   "cell_type": "markdown",
   "id": "d2a6369f",
   "metadata": {},
   "source": [
    "### 3、mask函数\n",
    "\n",
    "\n",
    "用于遮挡一些词，来让模型学会预测"
   ]
  },
  {
   "cell_type": "code",
   "execution_count": 158,
   "id": "0bc41552",
   "metadata": {},
   "outputs": [],
   "source": [
    "def mask_pad(data):\n",
    "    \n",
    "    # 用于遮挡<PAD>\n",
    "    \n",
    "    # b句话,每句话40个词,这里是还没embed的\n",
    "    # data = [b, 40]\n",
    "    # 判断每个词是不是<PAD>\n",
    "    # 这里data表示的是字典里键值对对应的数字\n",
    "    mask = data == dataset_x['<PAD>']\n",
    "    \n",
    "    # [b, 40] -> [b, 1, 1, 40]\n",
    "    mask = mask.reshape(-1, 1, 1, 40)\n",
    "    \n",
    "    # 在计算注意力时,是计算40个词和40个词相互之间的注意力,所以是个40*40的矩阵\n",
    "    # 是pad的列是true,意味着任何词对pad的注意力都是0\n",
    "    # 但是pad本身对其他词的注意力并不是0\n",
    "    # 所以是pad的行不是true\n",
    "    \n",
    "    # 复制n次\n",
    "    # [b, 1, 1, 40] -> [b, 1, 40, 40]\n",
    "    mask = mask.expand(-1, 1, 40, 40)\n",
    "    \n",
    "    return mask"
   ]
  },
  {
   "cell_type": "code",
   "execution_count": 159,
   "id": "3c9e008d",
   "metadata": {},
   "outputs": [],
   "source": [
    "def mask_tril(data):\n",
    "    \n",
    "    # 用于遮挡未来词\n",
    "    # 比如一句话是\"a,b,c\"，那么考虑a的时候，不考虑a和b以及a的c的注意力\n",
    "    \n",
    "    # b句话,每句话40个词,这里是还没embed的\n",
    "    # data = [b, 40]\n",
    "    \n",
    "    # 上三角矩阵,不包括对角线,意味着,对每个词而言,他只能看到他自己,和他之前的词,而看不到之后的词\n",
    "    # [1, 40, 40]\n",
    "    \n",
    "    \"\"\"\n",
    "    [[0, 1, 1, 1, 1],\n",
    "     [0, 0, 1, 1, 1],\n",
    "     [0, 0, 0, 1, 1],\n",
    "     [0, 0, 0, 0, 1],\n",
    "     [0, 0, 0, 0, 0]]\"\"\"\n",
    "    \n",
    "    tril = 1 - torch.tril(torch.ones(1, 40, 40, dtype=torch.long))\n",
    "    \n",
    "    # 判断y当中每个词是不是pad,如果是pad则不可见\n",
    "    # [b, 40]\n",
    "    mask = data == dataset_y['<PAD>']\n",
    "    \n",
    "    # 变形+转型,为了之后的计算\n",
    "    # [b, 1, 40]\n",
    "    mask = mask.unsqueeze(1).long()\n",
    "    \n",
    "    # mask和tril求并集\n",
    "    # [b, 1, 40] + [1, 40, 40] -> [b, 40, 40]\n",
    "    mask = mask + tril\n",
    "    \n",
    "    # 转布尔型\n",
    "    mask = mask > 0\n",
    "\n",
    "    # 转布尔型,增加一个维度,便于后续的计算\n",
    "    mask = (mask == 1).unsqueeze(dim=1)\n",
    "\n",
    "    return mask"
   ]
  },
  {
   "cell_type": "code",
   "execution_count": null,
   "id": "94796710",
   "metadata": {},
   "outputs": [],
   "source": []
  },
  {
   "cell_type": "code",
   "execution_count": null,
   "id": "227e9433",
   "metadata": {},
   "outputs": [],
   "source": []
  },
  {
   "cell_type": "code",
   "execution_count": null,
   "id": "8b3bcae8",
   "metadata": {},
   "outputs": [],
   "source": []
  },
  {
   "attachments": {
    "image.png": {
     "image/png": "[encoded data removed]"
    }
   },
   "cell_type": "markdown",
   "id": "df2a69a8",
   "metadata": {},
   "source": [
    "### 4、transformer整体的过程\n",
    "\n",
    "![image.png](attachment:image.png)"
   ]
  },
  {
   "cell_type": "markdown",
   "id": "7ad29078",
   "metadata": {},
   "source": [
    "#### 4.1 encoder层"
   ]
  },
  {
   "cell_type": "code",
   "execution_count": 160,
   "id": "deef49b4",
   "metadata": {},
   "outputs": [],
   "source": [
    "class EncoderLayer(torch.nn.Module):\n",
    "    def __init__(self):\n",
    "        super().__init__()\n",
    "        # 多头注意力层\n",
    "        self.mh = MultiHead()\n",
    "        # 全连接层\n",
    "        self.fc = FullyConnectedOutput()\n",
    "        \n",
    "    def forward(self, x, mask):\n",
    "        # 计算自注意力,维度不变\n",
    "        # [b, 40, 32] -> [b, 40, 32]\n",
    "        score = self.mh(x, x, x, mask)\n",
    "\n",
    "        # 全连接输出,维度不变\n",
    "        # [b, 40, 32] -> [b, 40, 32]\n",
    "        out = self.fc(score)\n",
    "\n",
    "        return out"
   ]
  },
  {
   "cell_type": "markdown",
   "id": "e7218181",
   "metadata": {},
   "source": [
    "然后将encoderlayer*3"
   ]
  },
  {
   "cell_type": "code",
   "execution_count": 161,
   "id": "a4d9a8e4",
   "metadata": {},
   "outputs": [],
   "source": [
    "class Encoder(torch.nn.Module):\n",
    "    def __init__(self):\n",
    "        super().__init__()\n",
    "        self.layer_1 = EncoderLayer()\n",
    "        self.layer_2 = EncoderLayer()\n",
    "        self.layer_3 = EncoderLayer()\n",
    "\n",
    "    def forward(self, x, mask):\n",
    "        x = self.layer_1(x, mask)\n",
    "        x = self.layer_2(x, mask)\n",
    "        x = self.layer_3(x, mask)\n",
    "        return x"
   ]
  },
  {
   "cell_type": "code",
   "execution_count": null,
   "id": "b0adcb54",
   "metadata": {},
   "outputs": [],
   "source": []
  },
  {
   "cell_type": "code",
   "execution_count": null,
   "id": "90970967",
   "metadata": {},
   "outputs": [],
   "source": []
  },
  {
   "cell_type": "markdown",
   "id": "75354fef",
   "metadata": {},
   "source": [
    "#### 4.2 解码器层"
   ]
  },
  {
   "cell_type": "code",
   "execution_count": 162,
   "id": "a9103c0d",
   "metadata": {},
   "outputs": [],
   "source": [
    "class DecoderLayer(torch.nn.Module):\n",
    "    def __init__(self):\n",
    "        super().__init__()\n",
    "        \n",
    "        # mask的那部分\n",
    "        self.mh1 = MultiHead()\n",
    "        # 从encoder那边来的部分\n",
    "        self.mh2 = MultiHead()\n",
    "        # 全连接层\n",
    "        self.fc = FullyConnectedOutput()\n",
    "        \n",
    "    def forward(self, x, y, mask_pad_x, mask_tril_y):\n",
    "        # 先计算y的自注意力,维度不变\n",
    "        # [b, 40, 32] -> [b, 40, 32]\n",
    "        # mask_tril_y为了预测下一个词\n",
    "        y = self.mh1(y, y, y, mask_tril_y)\n",
    "\n",
    "        # 结合x和y的注意力计算,维度不变\n",
    "        # [b, 40, 32],[b, 40, 32] -> [b, 40, 32]\n",
    "        y = self.mh2(y, x, x, mask_pad_x)\n",
    "\n",
    "        # 全连接输出,维度不变\n",
    "        # [b, 40, 32] -> [b, 40, 32]\n",
    "        y = self.fc(y)\n",
    "\n",
    "        return y"
   ]
  },
  {
   "cell_type": "code",
   "execution_count": 163,
   "id": "a55b6ed3",
   "metadata": {},
   "outputs": [],
   "source": [
    "class Decoder(torch.nn.Module):\n",
    "    def __init__(self):\n",
    "        super().__init__()\n",
    "\n",
    "        self.layer_1 = DecoderLayer()\n",
    "        self.layer_2 = DecoderLayer()\n",
    "        self.layer_3 = DecoderLayer()\n",
    "\n",
    "    def forward(self, x, y, mask_pad_x, mask_tril_y):\n",
    "        y = self.layer_1(x, y, mask_pad_x, mask_tril_y)\n",
    "        y = self.layer_2(x, y, mask_pad_x, mask_tril_y)\n",
    "        y = self.layer_3(x, y, mask_pad_x, mask_tril_y)\n",
    "        return y"
   ]
  },
  {
   "cell_type": "code",
   "execution_count": null,
   "id": "f06a9a8b",
   "metadata": {},
   "outputs": [],
   "source": []
  },
  {
   "cell_type": "code",
   "execution_count": null,
   "id": "660b9fea",
   "metadata": {},
   "outputs": [],
   "source": []
  },
  {
   "cell_type": "markdown",
   "id": "61f77d58",
   "metadata": {},
   "source": [
    "#### 4.3 主模型"
   ]
  },
  {
   "cell_type": "code",
   "execution_count": 164,
   "id": "769330f7",
   "metadata": {},
   "outputs": [],
   "source": [
    "class Transformer(torch.nn.Module):\n",
    "    def __init__(self):\n",
    "        super().__init__()\n",
    "        self.embed_x = PositionEmbedding()\n",
    "        self.embed_y = PositionEmbedding()\n",
    "        self.encoder = Encoder()\n",
    "        self.decoder = Decoder()\n",
    "        self.fc_out = torch.nn.Linear(32, 39)\n",
    "        \n",
    "    def forward(self, x, y):\n",
    "        # [b, 1, 40, 40]\n",
    "        mask_pad_x = mask_pad(x)\n",
    "        mask_tril_y = mask_tril(y)\n",
    "\n",
    "        # 编码,添加位置信息\n",
    "        # x = [b, 40] -> [b, 40, 32]\n",
    "        # y = [b, 40] -> [b, 40, 32]\n",
    "        x, y = self.embed_x(x), self.embed_y(y)\n",
    "\n",
    "        # 编码层计算\n",
    "        # [b, 40, 32] -> [b, 40, 32]\n",
    "        x = self.encoder(x, mask_pad_x)\n",
    "\n",
    "        # 解码层计算\n",
    "        # [b, 40, 32],[b, 40, 32] -> [b, 40, 32]\n",
    "        y = self.decoder(x, y, mask_pad_x, mask_tril_y)\n",
    "\n",
    "        # 全连接输出,维度不变\n",
    "        # [b, 40, 32] -> [b, 40, 39]\n",
    "        y = self.fc_out(y)\n",
    "\n",
    "        return y"
   ]
  },
  {
   "cell_type": "code",
   "execution_count": null,
   "id": "a113146b",
   "metadata": {},
   "outputs": [],
   "source": []
  },
  {
   "cell_type": "code",
   "execution_count": null,
   "id": "38428c74",
   "metadata": {},
   "outputs": [],
   "source": []
  },
  {
   "cell_type": "markdown",
   "id": "60f0584f",
   "metadata": {},
   "source": [
    "### 5、训练与保存模型"
   ]
  },
  {
   "cell_type": "code",
   "execution_count": 165,
   "id": "acdc5375",
   "metadata": {},
   "outputs": [],
   "source": [
    "import math\n",
    "import torch"
   ]
  },
  {
   "cell_type": "code",
   "execution_count": 166,
   "id": "56f7e73a",
   "metadata": {},
   "outputs": [],
   "source": [
    "# 模型训练\n",
    "model = Transformer()"
   ]
  },
  {
   "cell_type": "code",
   "execution_count": 167,
   "id": "2bbf0dde",
   "metadata": {},
   "outputs": [],
   "source": [
    "# 计算loss\n",
    "loss_func = torch.nn.CrossEntropyLoss()"
   ]
  },
  {
   "cell_type": "code",
   "execution_count": 168,
   "id": "40308f9c",
   "metadata": {},
   "outputs": [],
   "source": [
    "# 优化器选择adam\n",
    "optim = torch.optim.Adam(model.parameters(), lr=2e-3)\n",
    "# 学习率是0.002"
   ]
  },
  {
   "cell_type": "code",
   "execution_count": 169,
   "id": "956d02fe",
   "metadata": {},
   "outputs": [],
   "source": [
    "# 学习率调度器，每3个步长epochs后，学习率*0.5\n",
    "sched = torch.optim.lr_scheduler.StepLR(optim, step_size=3, gamma=0.5)"
   ]
  },
  {
   "cell_type": "code",
   "execution_count": 173,
   "id": "0b4a78b7",
   "metadata": {},
   "outputs": [
    {
     "name": "stderr",
     "output_type": "stream",
     "text": [
      "Training Progress:   0%|                                                          | 13/12500 [00:15<4:05:29,  1.18s/it]\n",
      "Training Progress: 100%|█████████████████████████████████████████████████████████| 12500/12500 [21:01<00:00,  9.91it/s]\n"
     ]
    }
   ],
   "source": [
    "from tqdm import tqdm\n",
    "# 打开文件以写入结果\n",
    "# 创建进度条\n",
    "progress_bar = tqdm(total=len(loader), desc=\"Training Progress\")\n",
    "with open('transformer_lxy.txt', 'a') as f:\n",
    "    for epoch in range(1):\n",
    "        for i, (x, y) in enumerate(loader):\n",
    "            # x = [8, 40]\n",
    "            # y = [8, 41]\n",
    "\n",
    "            # 在训练时,是拿y的每一个字符输入,预测下一个字符,所以不需要最后一个字\n",
    "            # [8, 40]\n",
    "            # [8, 40] -> [8, 40, 39]\n",
    "            pred = model(x, y[:, :-1])\n",
    "\n",
    "            # [8, 40, 39] -> [320, 39]\n",
    "            pred = pred.reshape(-1, 39)\n",
    "\n",
    "            # [8, 41] -> [320]\n",
    "            # 去掉'<BEGIN>'\n",
    "            y = y[:, 1:].reshape(-1)\n",
    "\n",
    "            # 忽略pad\n",
    "            select = y != dataset_y['<PAD>']\n",
    "            pred = pred[select]\n",
    "            y = y[select]\n",
    "\n",
    "            loss = loss_func(pred, y)\n",
    "            optim.zero_grad()\n",
    "            loss.backward()\n",
    "            optim.step()\n",
    "            \n",
    "            # 更新进度条\n",
    "            progress_bar.update(1)\n",
    "                \n",
    "            if i % 200 == 0:\n",
    "                # [select, 39] -> [select]\n",
    "                pred = pred.argmax(1)\n",
    "                # 表示沿着第二个维度（即每一行）找到最大值的索引，也就是找到每个样本预测概率最高的类别对应的索引。\n",
    "                correct = (pred == y).sum().item()\n",
    "                accuracy = correct / len(pred)\n",
    "                lr = optim.param_groups[0]['lr']\n",
    "                \n",
    "                \n",
    "                # 将结果写入文件\n",
    "                f.write(\"Epoch: {} Step: {} LR: {:.6f} Accuracy: {:.4f} Loss: {}\\n\".format(epoch, i, lr, accuracy, loss.item()))\n",
    "        sched.step()\n",
    "                \n",
    "# 关闭进度条\n",
    "progress_bar.close()"
   ]
  },
  {
   "cell_type": "code",
   "execution_count": null,
   "id": "4e1b363a",
   "metadata": {},
   "outputs": [],
   "source": []
  },
  {
   "cell_type": "code",
   "execution_count": null,
   "id": "987eaa57",
   "metadata": {},
   "outputs": [],
   "source": []
  },
  {
   "cell_type": "markdown",
   "id": "be7c246c",
   "metadata": {},
   "source": [
    "### 6、推理模型\n",
    "\n",
    "输入：a123bc\n",
    "\n",
    "输出：A987BC"
   ]
  },
  {
   "cell_type": "code",
   "execution_count": 175,
   "id": "d72fcd52",
   "metadata": {},
   "outputs": [],
   "source": [
    "def predict(x):\n",
    "    # x = [1, 40]:一句话，40个词\n",
    "    model.eval()\n",
    "    \n",
    "    # [1, 1, 40, 40]\n",
    "    mask_pad_x = mask_pad(x)\n",
    "    # 初始化输出,这个是固定值\n",
    "    # [1, 40]\n",
    "    # [[0,2,2,2...]]\n",
    "    target = [dataset_y['<BEGIN>']] + [dataset_y['<PAD>']] * 39\n",
    "    target = torch.LongTensor(target).unsqueeze(0)\n",
    "    \n",
    "    # x编码,添加位置信息\n",
    "    # [1, 40] -> [1, 40, 32]\n",
    "    x = model.embed_x(x)\n",
    "    \n",
    "    # 编码层计算,维度不变\n",
    "    # [1, 40, 32] -> [1, 40, 32]\n",
    "    x = model.encoder(x, mask_pad_x)\n",
    "    \n",
    "    # 遍历生成第1个词到第39个词\n",
    "    # 因为是预测，所以最后一个词是预测出来的\n",
    "    for i in range(39):\n",
    "        # [1, 40]\n",
    "        # [[0,2,2,2...]]\n",
    "        y = target\n",
    "\n",
    "        # [1, 1, 40, 40]\n",
    "        mask_tril_y = mask_tril(y)\n",
    "\n",
    "        # y编码,添加位置信息\n",
    "        # [1, 40] -> [1, 40, 32]\n",
    "        y = model.embed_y(y)\n",
    "        \n",
    "        # 解码层计算,维度不变\n",
    "        # [1, 40, 32],[1, 40, 32] -> [1, 40, 32]\n",
    "        y = model.decoder(x, y, mask_pad_x, mask_tril_y)\n",
    "        \n",
    "        # 全连接输出,39分类\n",
    "        # [1, 40, 32] -> [1, 40, 39]\n",
    "        out = model.fc_out(y)\n",
    "        \n",
    "        # 取出当前词的输出\n",
    "        # [1, 40, 39] -> [1, 40]\n",
    "        out = out[:, i, :]\n",
    "        \n",
    "        # 取出分类结果\n",
    "        # [1, 39] -> [1]\n",
    "        out = out.argmax(dim=1).detach()\n",
    "\n",
    "        # 以当前词预测下一个词,填到结果中\n",
    "        target[:, i + 1] = out\n",
    "        \n",
    "    return target"
   ]
  },
  {
   "cell_type": "code",
   "execution_count": 195,
   "id": "7fc023e5",
   "metadata": {},
   "outputs": [],
   "source": [
    "# 测试\n",
    "for i, (x, y) in enumerate(loader):\n",
    "    break"
   ]
  },
  {
   "cell_type": "code",
   "execution_count": 196,
   "id": "0deb847f",
   "metadata": {
    "scrolled": true
   },
   "outputs": [
    {
     "name": "stdout",
     "output_type": "stream",
     "text": [
      "0\n",
      "x输入： 3788569996da68e241887g65\n",
      "y答案： 57322541114DA42E869223G45\n",
      "y预测： 57322541114DA42E869223G45\n",
      "1\n",
      "x输入： 8g776715g1846bbe25388648\n",
      "y答案： 22G334395G9264BBE85722462\n",
      "y预测： 22G334395G9264BBE85722462\n",
      "2\n",
      "x输入： 561e94a53a9d65726e56\n",
      "y答案： 4549E16A57A1D45384E54\n",
      "y预测： 4549E16A57A1D45384E54\n",
      "3\n",
      "x输入： 618854449g7g5f63e4g9\n",
      "y答案： 1492256661G3G5F47E6G1\n",
      "y预测： 1492256661G3G5F47E6G1\n",
      "4\n",
      "x输入： 2f1467265e6f52553944376\n",
      "y答案： 48F9643845E4F58557166734\n",
      "y预测： 48F9643845E4F58557166734\n"
     ]
    }
   ],
   "source": [
    "for i in range(5):\n",
    "    print(i)\n",
    "    print('x输入：',''.join([dataset_xr[i] for i in x[i].tolist()]).replace(\"<BEGIN>\", \"\").split(\"<END>\")[0])\n",
    "    print('y答案：',''.join([dataset_yr[i] for i in y[i].tolist()]).replace(\"<BEGIN>\", \"\").split(\"<END>\")[0])\n",
    "    print('y预测：',''.join([dataset_yr[i] for i in predict(x[i].unsqueeze(0))[0].tolist()]).replace(\"<BEGIN>\", \"\").split(\"<END>\")[0])\n"
   ]
  },
  {
   "cell_type": "code",
   "execution_count": null,
   "id": "96fe5688",
   "metadata": {},
   "outputs": [],
   "source": []
  }
 ],
 "metadata": {
  "kernelspec": {
   "display_name": "Python 3 (ipykernel)",
   "language": "python",
   "name": "python3"
  },
  "language_info": {
   "codemirror_mode": {
    "name": "ipython",
    "version": 3
   },
   "file_extension": ".py",
   "mimetype": "text/x-python",
   "name": "python",
   "nbconvert_exporter": "python",
   "pygments_lexer": "ipython3",
   "version": "3.9.17"
  }
 },
 "nbformat": 4,
 "nbformat_minor": 5
}
